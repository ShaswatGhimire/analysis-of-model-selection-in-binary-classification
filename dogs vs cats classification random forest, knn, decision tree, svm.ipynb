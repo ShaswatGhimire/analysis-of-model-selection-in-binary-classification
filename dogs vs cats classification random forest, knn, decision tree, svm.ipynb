{
 "cells": [
  {
   "cell_type": "code",
   "execution_count": 1,
   "id": "d6b5c109",
   "metadata": {},
   "outputs": [],
   "source": [
    "import numpy as np\n",
    "import pandas as pd\n",
    "import matplotlib.pyplot as plt\n",
    "import scipy\n",
    "import copy\n",
    "from scipy import ndimage\n",
    "from PIL import Image\n",
    "import os\n",
    "\n",
    "import seaborn as sns\n",
    "\n",
    "#models import\n",
    "from sklearn.ensemble import RandomForestClassifier\n",
    "from sklearn.svm import SVC\n",
    "from sklearn.neighbors import KNeighborsClassifier\n",
    "from sklearn.tree import DecisionTreeClassifier\n",
    "\n",
    "\n",
    "#evaluation scores import\n",
    "from sklearn.metrics import confusion_matrix, classification_report,accuracy_score"
   ]
  },
  {
   "cell_type": "code",
   "execution_count": 2,
   "id": "7cf3426f",
   "metadata": {},
   "outputs": [],
   "source": [
    "#setting the path for the folder to read ... \n",
    "path1 = 'C:\\code files\\machine learning\\dogs vs cats classification\\dataset'\n",
    "\n",
    "#setting important values \n",
    "height = 32\n",
    "width = 32\n",
    "\n",
    "classes = ['cat', 'dog']"
   ]
  },
  {
   "cell_type": "code",
   "execution_count": 5,
   "id": "96f6ca5a",
   "metadata": {},
   "outputs": [],
   "source": [
    "#function to load images from directory into array\n",
    "def create_dataset(directory):\n",
    "    img_array = []\n",
    "    class_name = []\n",
    "    m = 0\n",
    "    \n",
    "    for dir1 in os.listdir(directory):\n",
    "        #print(dir1)\n",
    "        for file in os.listdir(os.path.join(directory,dir1)):\n",
    "            image_path = os.path.join(directory, dir1, file)\n",
    "            try:\n",
    "                grayscale_image = np.array(Image.open(image_path).convert('L'))\n",
    "                    # Convert to grayscale\n",
    "                #grayscale_image = image\n",
    "    \n",
    "                # Resize the image\n",
    "                image = np.resize(grayscale_image, (width,height))\n",
    "                image = image.astype('float32')\n",
    "                image /= 255\n",
    "                img_array.append(image)\n",
    "                if dir1 == 'Dog':\n",
    "                    m = 1\n",
    "                else:\n",
    "                    m = 0\n",
    "                class_name.append(m)\n",
    "            except e:\n",
    "                pass\n",
    "    \n",
    "    return img_array, class_name\n",
    "            "
   ]
  },
  {
   "cell_type": "code",
   "execution_count": 6,
   "id": "2724d315",
   "metadata": {},
   "outputs": [
    {
     "name": "stderr",
     "output_type": "stream",
     "text": [
      "C:\\Users\\hp\\anaconda3\\lib\\site-packages\\PIL\\TiffImagePlugin.py:793: UserWarning: Truncated File Read\n",
      "  warnings.warn(str(msg))\n"
     ]
    }
   ],
   "source": [
    "#creating dataset and pre-processing the data\n",
    "X_train, Y_train = create_dataset(os.path.join(path1,'Train'))\n",
    "X_test, Y_test = create_dataset(os.path.join(path1,'Test'))\n",
    "\n",
    "m_test = len(X_test)\n",
    "m_train = len(X_train)\n",
    "\n",
    "#flattening data and setting approprate dimensions  i.e , (number of data ,  height*width*3)\n",
    "X_train_array = np.asarray(X_train).reshape(m_train, -1).T\n",
    "X_test_array = np.asarray(X_test).reshape(m_test, -1).T\n",
    "Y_train_array = np.asarray(Y_train).reshape(len(Y_train),1).T\n",
    "Y_test_array = np.asarray(Y_test).reshape(len(Y_test),1).T"
   ]
  },
  {
   "cell_type": "code",
   "execution_count": 7,
   "id": "b1ab653c",
   "metadata": {},
   "outputs": [
    {
     "name": "stdout",
     "output_type": "stream",
     "text": [
      "(20599, 1024)\n",
      "(4400, 1024)\n",
      "(20599, 1)\n",
      "(4400, 1)\n"
     ]
    }
   ],
   "source": [
    "print(X_train_array.T.shape)\n",
    "print(X_test_array.T.shape)\n",
    "print(Y_train_array.T.shape)\n",
    "print(Y_test_array.T.shape)"
   ]
  },
  {
   "cell_type": "code",
   "execution_count": 8,
   "id": "2d95e7e7",
   "metadata": {},
   "outputs": [],
   "source": [
    "def plot_confusion_matrix(y_true, y_pred, classes, name):\n",
    "    \"\"\"\n",
    "    Plot a confusion matrix.\n",
    "\n",
    "    Parameters:\n",
    "    - y_true: True labels\n",
    "    - y_pred: Predicted labels\n",
    "    - classes: Class names (list)\n",
    "    \"\"\"\n",
    "    cm = confusion_matrix(y_true, y_pred)\n",
    "    \n",
    "    plt.figure(figsize=(6, 4))\n",
    "    sns.heatmap(cm, annot=True, fmt='d', cmap='Blues', xticklabels=classes, yticklabels=classes)\n",
    "    plt.title(f'Confusion Matrix of {name}')\n",
    "    plt.xlabel('Predicted label')\n",
    "    plt.ylabel('True label')\n",
    "    plt.show()\n"
   ]
  },
  {
   "cell_type": "code",
   "execution_count": 9,
   "id": "9a7656fe",
   "metadata": {},
   "outputs": [],
   "source": [
    "def rf_clf(X_train, X_test, y_train , y_test, classes):\n",
    "\n",
    "    model =  RandomForestClassifier(n_estimators=100, random_state=42)\n",
    "\n",
    "    model.fit(X_train, y_train)\n",
    "\n",
    "    \n",
    "    y_pred = model.predict(X_test)\n",
    "\n",
    "    accuracy = accuracy_score(y_test, y_pred)\n",
    "    print(f\"Accuracy: {accuracy}\")\n",
    "    cm = confusion_matrix(y_test, y_pred)\n",
    "\n",
    "    plot_confusion_matrix(y_test, y_pred,classes, 'Random Forest')\n",
    "\n",
    "\n",
    "    report = classification_report(y_test, y_pred)\n",
    "    print(\"\\nClassification Report:\")\n",
    "    print(report)\n",
    "    \n",
    "    return model"
   ]
  },
  {
   "cell_type": "code",
   "execution_count": 10,
   "id": "a99a8aef",
   "metadata": {},
   "outputs": [],
   "source": [
    "def svm_clf(X_train, X_test, y_train, y_test, classes):\n",
    "    model = SVC(kernel='linear', random_state=42)\n",
    "    model.fit(X_train, y_train)\n",
    "    \n",
    "    y_pred = model.predict(X_test)\n",
    "\n",
    "    accuracy = accuracy_score(y_test, y_pred)\n",
    "    print(f\"Accuracy: {accuracy}\")\n",
    "    \n",
    "    cm = confusion_matrix(y_test, y_pred)\n",
    "    plot_confusion_matrix(y_test, y_pred, classes, 'SVM')\n",
    "\n",
    "    report = classification_report(y_test, y_pred)\n",
    "    print(\"\\nClassification Report:\")\n",
    "    print(report)\n",
    "    \n",
    "    return model\n"
   ]
  },
  {
   "cell_type": "code",
   "execution_count": 11,
   "id": "a875e034",
   "metadata": {},
   "outputs": [],
   "source": [
    "def dt_clf(X_train, X_test, y_train, y_test, classes):\n",
    "    model = DecisionTreeClassifier(random_state=42)\n",
    "    model.fit(X_train, y_train)\n",
    "    \n",
    "    y_pred = model.predict(X_test)\n",
    "\n",
    "    accuracy = accuracy_score(y_test, y_pred)\n",
    "    print(f\"Accuracy: {accuracy}\")\n",
    "    \n",
    "    cm = confusion_matrix(y_test, y_pred)\n",
    "    plot_confusion_matrix(y_test, y_pred, classes, 'Decision Tree')\n",
    "\n",
    "    report = classification_report(y_test, y_pred)\n",
    "    print(\"\\nClassification Report:\")\n",
    "    print(report)\n",
    "    \n",
    "    return model\n"
   ]
  },
  {
   "cell_type": "code",
   "execution_count": 12,
   "id": "bcdd670b",
   "metadata": {},
   "outputs": [],
   "source": [
    "def knn_clf(X_train, X_test, y_train, y_test, classes):\n",
    "    model = KNeighborsClassifier(n_neighbors=5)\n",
    "    model.fit(X_train, y_train)\n",
    "    \n",
    "    y_pred = model.predict(X_test)\n",
    "\n",
    "    accuracy = accuracy_score(y_test, y_pred)\n",
    "    print(f\"Accuracy: {accuracy}\")\n",
    "    \n",
    "    cm = confusion_matrix(y_test, y_pred)\n",
    "    plot_confusion_matrix(y_test, y_pred, classes, 'KNN')\n",
    "\n",
    "    report = classification_report(y_test, y_pred)\n",
    "    print(\"\\nClassification Report:\")\n",
    "    print(report)\n",
    "    \n",
    "    return model"
   ]
  },
  {
   "cell_type": "code",
   "execution_count": 13,
   "id": "f2c169b8",
   "metadata": {},
   "outputs": [
    {
     "name": "stdout",
     "output_type": "stream",
     "text": [
      "Accuracy: 0.5515909090909091\n"
     ]
    },
    {
     "data": {
      "image/png": "[encoded data removed]",
      "text/plain": [
       "<Figure size 432x288 with 2 Axes>"
      ]
     },
     "metadata": {
      "needs_background": "light"
     },
     "output_type": "display_data"
    },
    {
     "name": "stdout",
     "output_type": "stream",
     "text": [
      "\n",
      "Classification Report:\n",
      "              precision    recall  f1-score   support\n",
      "\n",
      "           0       0.55      0.55      0.55      2200\n",
      "           1       0.55      0.55      0.55      2200\n",
      "\n",
      "    accuracy                           0.55      4400\n",
      "   macro avg       0.55      0.55      0.55      4400\n",
      "weighted avg       0.55      0.55      0.55      4400\n",
      "\n"
     ]
    }
   ],
   "source": [
    "random_forest_model = rf_clf(X_train_array.T, X_test_array.T, Y_train_array.T.ravel(), Y_test_array.T.ravel(), classes)"
   ]
  },
  {
   "cell_type": "code",
   "execution_count": 14,
   "id": "2e93ed17",
   "metadata": {},
   "outputs": [
    {
     "name": "stdout",
     "output_type": "stream",
     "text": [
      "Accuracy: 0.5175\n"
     ]
    },
    {
     "data": {
      "image/png": "[encoded data removed]",
      "text/plain": [
       "<Figure size 432x288 with 2 Axes>"
      ]
     },
     "metadata": {
      "needs_background": "light"
     },
     "output_type": "display_data"
    },
    {
     "name": "stdout",
     "output_type": "stream",
     "text": [
      "\n",
      "Classification Report:\n",
      "              precision    recall  f1-score   support\n",
      "\n",
      "           0       0.52      0.53      0.52      2200\n",
      "           1       0.52      0.50      0.51      2200\n",
      "\n",
      "    accuracy                           0.52      4400\n",
      "   macro avg       0.52      0.52      0.52      4400\n",
      "weighted avg       0.52      0.52      0.52      4400\n",
      "\n"
     ]
    }
   ],
   "source": [
    "decision_tree_model = dt_clf(X_train_array.T, X_test_array.T, Y_train_array.T.ravel(), Y_test_array.T.ravel(), classes)"
   ]
  },
  {
   "cell_type": "code",
   "execution_count": 15,
   "id": "0c835146",
   "metadata": {},
   "outputs": [
    {
     "name": "stdout",
     "output_type": "stream",
     "text": [
      "Accuracy: 0.5127272727272727\n"
     ]
    },
    {
     "data": {
      "image/png": "[encoded data removed]",
      "text/plain": [
       "<Figure size 432x288 with 2 Axes>"
      ]
     },
     "metadata": {
      "needs_background": "light"
     },
     "output_type": "display_data"
    },
    {
     "name": "stdout",
     "output_type": "stream",
     "text": [
      "\n",
      "Classification Report:\n",
      "              precision    recall  f1-score   support\n",
      "\n",
      "           0       0.51      0.75      0.61      2200\n",
      "           1       0.52      0.27      0.36      2200\n",
      "\n",
      "    accuracy                           0.51      4400\n",
      "   macro avg       0.52      0.51      0.48      4400\n",
      "weighted avg       0.52      0.51      0.48      4400\n",
      "\n"
     ]
    }
   ],
   "source": [
    "knn_model = knn_clf(X_train_array.T, X_test_array.T, Y_train_array.T.ravel(), Y_test_array.T.ravel(), classes)"
   ]
  },
  {
   "cell_type": "code",
   "execution_count": 16,
   "id": "ad168de9",
   "metadata": {},
   "outputs": [
    {
     "name": "stdout",
     "output_type": "stream",
     "text": [
      "Accuracy: 0.5068181818181818\n"
     ]
    },
    {
     "data": {
      "image/png": "[encoded data removed]",
      "text/plain": [
       "<Figure size 432x288 with 2 Axes>"
      ]
     },
     "metadata": {
      "needs_background": "light"
     },
     "output_type": "display_data"
    },
    {
     "name": "stdout",
     "output_type": "stream",
     "text": [
      "\n",
      "Classification Report:\n",
      "              precision    recall  f1-score   support\n",
      "\n",
      "           0       0.51      0.60      0.55      2200\n",
      "           1       0.51      0.41      0.45      2200\n",
      "\n",
      "    accuracy                           0.51      4400\n",
      "   macro avg       0.51      0.51      0.50      4400\n",
      "weighted avg       0.51      0.51      0.50      4400\n",
      "\n"
     ]
    }
   ],
   "source": [
    "svm_model = svm_clf(X_train_array.T, X_test_array.T, Y_train_array.T.ravel(), Y_test_array.T.ravel(), classes)"
   ]
  },
  {
   "cell_type": "code",
   "execution_count": null,
   "id": "f67db854",
   "metadata": {},
   "outputs": [],
   "source": []
  }
 ],
 "metadata": {
  "kernelspec": {
   "display_name": "Python 3",
   "language": "python",
   "name": "python3"
  },
  "language_info": {
   "codemirror_mode": {
    "name": "ipython",
    "version": 3
   },
   "file_extension": ".py",
   "mimetype": "text/x-python",
   "name": "python",
   "nbconvert_exporter": "python",
   "pygments_lexer": "ipython3",
   "version": "3.8.8"
  }
 },
 "nbformat": 4,
 "nbformat_minor": 5
}
