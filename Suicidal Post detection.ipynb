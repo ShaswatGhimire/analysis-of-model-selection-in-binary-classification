{
 "cells": [
  {
   "cell_type": "code",
   "execution_count": 54,
   "id": "b746855c",
   "metadata": {},
   "outputs": [
    {
     "name": "stderr",
     "output_type": "stream",
     "text": [
      "[nltk_data] Downloading package stopwords to\n",
      "[nltk_data]     C:\\Users\\hp\\AppData\\Roaming\\nltk_data...\n",
      "[nltk_data]   Package stopwords is already up-to-date!\n",
      "[nltk_data] Downloading package wordnet to\n",
      "[nltk_data]     C:\\Users\\hp\\AppData\\Roaming\\nltk_data...\n",
      "[nltk_data]   Package wordnet is already up-to-date!\n"
     ]
    }
   ],
   "source": [
    "#basic libraries for data storing and plotting \n",
    "import numpy as np\n",
    "import pandas as pd\n",
    "import seaborn as sns\n",
    "import matplotlib.pyplot as plt\n",
    "import itertools\n",
    "\n",
    "\n",
    "#data preprocessing\n",
    "import re\n",
    "import nltk\n",
    "from nltk.stem import WordNetLemmatizer, PorterStemmer\n",
    "from nltk.corpus import stopwords\n",
    "from sklearn.preprocessing import LabelEncoder, OneHotEncoder\n",
    "\n",
    "#feature extraction and splitting of data \n",
    "from sklearn.feature_extraction.text import TfidfVectorizer\n",
    "from sklearn.model_selection import train_test_split\n",
    "\n",
    "#models import\n",
    "from sklearn.ensemble import RandomForestClassifier\n",
    "from sklearn.svm import SVC\n",
    "from sklearn.neighbors import KNeighborsClassifier\n",
    "from sklearn.tree import DecisionTreeClassifier\n",
    "\n",
    "\n",
    "#evaluation scores import\n",
    "from sklearn.metrics import confusion_matrix, classification_report,accuracy_score\n",
    "\n",
    "#to save and load the model \n",
    "from joblib import dump, load\n",
    "import joblib\n",
    "\n",
    "\n",
    "#nltk corpus \n",
    "nltk.download('stopwords')\n",
    "nltk.download('wordnet')\n",
    "\n",
    "\n",
    "#ignore the warnings\n",
    "import warnings\n",
    "warnings.filterwarnings(\"ignore\")"
   ]
  },
  {
   "cell_type": "code",
   "execution_count": 30,
   "id": "5a23b30a",
   "metadata": {},
   "outputs": [],
   "source": [
    "file = 'Suicide_Ideation_Dataset(Twitter-based).csv'\n",
    "df = pd.read_csv(file)"
   ]
  },
  {
   "cell_type": "code",
   "execution_count": 31,
   "id": "d7c20f10",
   "metadata": {},
   "outputs": [
    {
     "data": {
      "text/html": [
       "<div>\n",
       "<style scoped>\n",
       "    .dataframe tbody tr th:only-of-type {\n",
       "        vertical-align: middle;\n",
       "    }\n",
       "\n",
       "    .dataframe tbody tr th {\n",
       "        vertical-align: top;\n",
       "    }\n",
       "\n",
       "    .dataframe thead th {\n",
       "        text-align: right;\n",
       "    }\n",
       "</style>\n",
       "<table border=\"1\" class=\"dataframe\">\n",
       "  <thead>\n",
       "    <tr style=\"text-align: right;\">\n",
       "      <th></th>\n",
       "      <th>Tweet</th>\n",
       "      <th>Suicide</th>\n",
       "    </tr>\n",
       "  </thead>\n",
       "  <tbody>\n",
       "    <tr>\n",
       "      <th>0</th>\n",
       "      <td>making some lunch</td>\n",
       "      <td>Not Suicide post</td>\n",
       "    </tr>\n",
       "    <tr>\n",
       "      <th>1</th>\n",
       "      <td>@Alexia You want his money.</td>\n",
       "      <td>Not Suicide post</td>\n",
       "    </tr>\n",
       "    <tr>\n",
       "      <th>2</th>\n",
       "      <td>@dizzyhrvy that crap took me forever to put to...</td>\n",
       "      <td>Potential Suicide post</td>\n",
       "    </tr>\n",
       "    <tr>\n",
       "      <th>3</th>\n",
       "      <td>@jnaylor #kiwitweets Hey Jer! Since when did y...</td>\n",
       "      <td>Not Suicide post</td>\n",
       "    </tr>\n",
       "    <tr>\n",
       "      <th>4</th>\n",
       "      <td>Trying out &amp;quot;Delicious Library 2&amp;quot; wit...</td>\n",
       "      <td>Not Suicide post</td>\n",
       "    </tr>\n",
       "  </tbody>\n",
       "</table>\n",
       "</div>"
      ],
      "text/plain": [
       "                                               Tweet                  Suicide\n",
       "0                                  making some lunch         Not Suicide post\n",
       "1                        @Alexia You want his money.         Not Suicide post\n",
       "2  @dizzyhrvy that crap took me forever to put to...  Potential Suicide post \n",
       "3  @jnaylor #kiwitweets Hey Jer! Since when did y...         Not Suicide post\n",
       "4  Trying out &quot;Delicious Library 2&quot; wit...         Not Suicide post"
      ]
     },
     "execution_count": 31,
     "metadata": {},
     "output_type": "execute_result"
    }
   ],
   "source": [
    "df.head()"
   ]
  },
  {
   "cell_type": "code",
   "execution_count": 32,
   "id": "8693aee0",
   "metadata": {},
   "outputs": [
    {
     "data": {
      "text/html": [
       "<div>\n",
       "<style scoped>\n",
       "    .dataframe tbody tr th:only-of-type {\n",
       "        vertical-align: middle;\n",
       "    }\n",
       "\n",
       "    .dataframe tbody tr th {\n",
       "        vertical-align: top;\n",
       "    }\n",
       "\n",
       "    .dataframe thead th {\n",
       "        text-align: right;\n",
       "    }\n",
       "</style>\n",
       "<table border=\"1\" class=\"dataframe\">\n",
       "  <thead>\n",
       "    <tr style=\"text-align: right;\">\n",
       "      <th></th>\n",
       "      <th>Tweet</th>\n",
       "      <th>Suicide</th>\n",
       "    </tr>\n",
       "  </thead>\n",
       "  <tbody>\n",
       "    <tr>\n",
       "      <th>count</th>\n",
       "      <td>1785</td>\n",
       "      <td>1787</td>\n",
       "    </tr>\n",
       "    <tr>\n",
       "      <th>unique</th>\n",
       "      <td>1777</td>\n",
       "      <td>2</td>\n",
       "    </tr>\n",
       "    <tr>\n",
       "      <th>top</th>\n",
       "      <td>Became as hot as the persistent days resting h...</td>\n",
       "      <td>Not Suicide post</td>\n",
       "    </tr>\n",
       "    <tr>\n",
       "      <th>freq</th>\n",
       "      <td>2</td>\n",
       "      <td>1127</td>\n",
       "    </tr>\n",
       "  </tbody>\n",
       "</table>\n",
       "</div>"
      ],
      "text/plain": [
       "                                                    Tweet           Suicide\n",
       "count                                                1785              1787\n",
       "unique                                               1777                 2\n",
       "top     Became as hot as the persistent days resting h...  Not Suicide post\n",
       "freq                                                    2              1127"
      ]
     },
     "execution_count": 32,
     "metadata": {},
     "output_type": "execute_result"
    }
   ],
   "source": [
    "df.describe()"
   ]
  },
  {
   "cell_type": "code",
   "execution_count": 33,
   "id": "e4ce07d5",
   "metadata": {},
   "outputs": [
    {
     "name": "stdout",
     "output_type": "stream",
     "text": [
      "<class 'pandas.core.frame.DataFrame'>\n",
      "RangeIndex: 1787 entries, 0 to 1786\n",
      "Data columns (total 2 columns):\n",
      " #   Column   Non-Null Count  Dtype \n",
      "---  ------   --------------  ----- \n",
      " 0   Tweet    1785 non-null   object\n",
      " 1   Suicide  1787 non-null   object\n",
      "dtypes: object(2)\n",
      "memory usage: 28.0+ KB\n"
     ]
    }
   ],
   "source": [
    "df.info()"
   ]
  },
  {
   "cell_type": "code",
   "execution_count": 34,
   "id": "20aeb9b5",
   "metadata": {},
   "outputs": [
    {
     "data": {
      "text/plain": [
       "Tweet      2\n",
       "Suicide    0\n",
       "dtype: int64"
      ]
     },
     "execution_count": 34,
     "metadata": {},
     "output_type": "execute_result"
    }
   ],
   "source": [
    "df.isnull().sum()"
   ]
  },
  {
   "cell_type": "code",
   "execution_count": 35,
   "id": "7806b22f",
   "metadata": {},
   "outputs": [],
   "source": [
    "df = df.dropna()"
   ]
  },
  {
   "cell_type": "code",
   "execution_count": 36,
   "id": "573e6d97",
   "metadata": {},
   "outputs": [
    {
     "data": {
      "text/plain": [
       "Tweet      0\n",
       "Suicide    0\n",
       "dtype: int64"
      ]
     },
     "execution_count": 36,
     "metadata": {},
     "output_type": "execute_result"
    }
   ],
   "source": [
    "df.isnull().sum()"
   ]
  },
  {
   "cell_type": "code",
   "execution_count": 37,
   "id": "ced3f50a",
   "metadata": {},
   "outputs": [],
   "source": [
    "def plot_sns_countplot(df, column_name):\n",
    "    sns.set(style=\"whitegrid\")\n",
    "    plt.figure(figsize=(12, 6))\n",
    "    sns.countplot(data=df, x=column_name, palette='pastel', edgecolor=\".6\", order=df[column_name].value_counts().index)\n",
    "    \n",
    "    plt.title(f'Categorical Countplot - {column_name}', fontsize=16)\n",
    "    plt.xlabel(column_name, fontsize=14)\n",
    "    plt.ylabel('Count', fontsize=14)\n",
    "    plt.xticks(rotation=45, ha='right')\n",
    "    plt.show()"
   ]
  },
  {
   "cell_type": "code",
   "execution_count": 38,
   "id": "9bcf029b",
   "metadata": {},
   "outputs": [
    {
     "data": {
      "image/png": "[encoded data removed]",
      "text/plain": [
       "<Figure size 864x432 with 1 Axes>"
      ]
     },
     "metadata": {},
     "output_type": "display_data"
    }
   ],
   "source": [
    "plot_sns_countplot(df, 'Suicide')"
   ]
  },
  {
   "cell_type": "code",
   "execution_count": 39,
   "id": "48f84809",
   "metadata": {},
   "outputs": [
    {
     "data": {
      "text/html": [
       "<div>\n",
       "<style scoped>\n",
       "    .dataframe tbody tr th:only-of-type {\n",
       "        vertical-align: middle;\n",
       "    }\n",
       "\n",
       "    .dataframe tbody tr th {\n",
       "        vertical-align: top;\n",
       "    }\n",
       "\n",
       "    .dataframe thead th {\n",
       "        text-align: right;\n",
       "    }\n",
       "</style>\n",
       "<table border=\"1\" class=\"dataframe\">\n",
       "  <thead>\n",
       "    <tr style=\"text-align: right;\">\n",
       "      <th></th>\n",
       "      <th>Tweet</th>\n",
       "      <th>Suicide</th>\n",
       "      <th>Processed_Text</th>\n",
       "      <th>Tokenized_Text</th>\n",
       "      <th>Lemmatized_Text</th>\n",
       "      <th>Stemmed_Text</th>\n",
       "      <th>Vectorized_Text</th>\n",
       "    </tr>\n",
       "  </thead>\n",
       "  <tbody>\n",
       "    <tr>\n",
       "      <th>0</th>\n",
       "      <td>making some lunch</td>\n",
       "      <td>Not Suicide post</td>\n",
       "      <td>making some lunch</td>\n",
       "      <td>[making, some, lunch]</td>\n",
       "      <td>[making, some, lunch]</td>\n",
       "      <td>[make, some, lunch]</td>\n",
       "      <td>[0.0, 0.0, 0.0, 0.0, 0.0, 0.0, 0.0, 0.0, 0.0, ...</td>\n",
       "    </tr>\n",
       "    <tr>\n",
       "      <th>1</th>\n",
       "      <td>@Alexia You want his money.</td>\n",
       "      <td>Not Suicide post</td>\n",
       "      <td>You want his money</td>\n",
       "      <td>[You, want, his, money]</td>\n",
       "      <td>[You, want, his, money]</td>\n",
       "      <td>[you, want, hi, money]</td>\n",
       "      <td>[0.0, 0.0, 0.0, 0.0, 0.0, 0.0, 0.0, 0.0, 0.0, ...</td>\n",
       "    </tr>\n",
       "    <tr>\n",
       "      <th>2</th>\n",
       "      <td>@dizzyhrvy that crap took me forever to put to...</td>\n",
       "      <td>Potential Suicide post</td>\n",
       "      <td>that crap took me forever   put together im g...</td>\n",
       "      <td>[that, crap, took, me, forever, put, together,...</td>\n",
       "      <td>[that, crap, took, me, forever, put, together,...</td>\n",
       "      <td>[that, crap, took, me, forev, put, togeth, im,...</td>\n",
       "      <td>[0.0, 0.0, 0.0, 0.0, 0.0, 0.0, 0.0, 0.0, 0.0, ...</td>\n",
       "    </tr>\n",
       "    <tr>\n",
       "      <th>3</th>\n",
       "      <td>@jnaylor #kiwitweets Hey Jer! Since when did y...</td>\n",
       "      <td>Not Suicide post</td>\n",
       "      <td>kiwitweets Hey Jer Since when did you start t...</td>\n",
       "      <td>[kiwitweets, Hey, Jer, Since, when, did, you, ...</td>\n",
       "      <td>[kiwitweets, Hey, Jer, Since, when, did, you, ...</td>\n",
       "      <td>[kiwitweet, hey, jer, sinc, when, did, you, st...</td>\n",
       "      <td>[0.0, 0.0, 0.0, 0.0, 0.0, 0.0, 0.0, 0.0, 0.0, ...</td>\n",
       "    </tr>\n",
       "    <tr>\n",
       "      <th>4</th>\n",
       "      <td>Trying out &amp;quot;Delicious Library 2&amp;quot; wit...</td>\n",
       "      <td>Not Suicide post</td>\n",
       "      <td>Trying out quotDelicious Library quot   mixed ...</td>\n",
       "      <td>[Trying, out, quotDelicious, Library, quot, mi...</td>\n",
       "      <td>[Trying, out, quotDelicious, Library, quot, mi...</td>\n",
       "      <td>[tri, out, quotdelici, librari, quot, mix, res...</td>\n",
       "      <td>[0.0, 0.0, 0.0, 0.0, 0.0, 0.0, 0.0, 0.0, 0.0, ...</td>\n",
       "    </tr>\n",
       "    <tr>\n",
       "      <th>...</th>\n",
       "      <td>...</td>\n",
       "      <td>...</td>\n",
       "      <td>...</td>\n",
       "      <td>...</td>\n",
       "      <td>...</td>\n",
       "      <td>...</td>\n",
       "      <td>...</td>\n",
       "    </tr>\n",
       "    <tr>\n",
       "      <th>1782</th>\n",
       "      <td>i have forgotten how much i love my Nokia N95-1</td>\n",
       "      <td>Not Suicide post</td>\n",
       "      <td>i have forgotten how much i love my Nokia N</td>\n",
       "      <td>[i, have, forgotten, how, much, i, love, my, N...</td>\n",
       "      <td>[i, have, forgotten, how, much, i, love, my, N...</td>\n",
       "      <td>[i, have, forgotten, how, much, i, love, my, n...</td>\n",
       "      <td>[0.0, 0.0, 0.0, 0.0, 0.0, 0.0, 0.0, 0.0, 0.0, ...</td>\n",
       "    </tr>\n",
       "    <tr>\n",
       "      <th>1783</th>\n",
       "      <td>Starting my day out with a positive attitude! ...</td>\n",
       "      <td>Not Suicide post</td>\n",
       "      <td>Starting my day out     positive attitude   be...</td>\n",
       "      <td>[Starting, my, day, out, positive, attitude, b...</td>\n",
       "      <td>[Starting, my, day, out, positive, attitude, b...</td>\n",
       "      <td>[start, my, day, out, posit, attitud, be, grea...</td>\n",
       "      <td>[0.0, 0.0, 0.0, 0.0, 0.0, 0.0, 0.0, 0.0, 0.0, ...</td>\n",
       "    </tr>\n",
       "    <tr>\n",
       "      <th>1784</th>\n",
       "      <td>@belledame222 Hey, it's 5 am...give a girl som...</td>\n",
       "      <td>Not Suicide post</td>\n",
       "      <td>Hey its  amgive   girl some credit   trying</td>\n",
       "      <td>[Hey, its, amgive, girl, some, credit, trying]</td>\n",
       "      <td>[Hey, it, amgive, girl, some, credit, trying]</td>\n",
       "      <td>[hey, it, amgiv, girl, some, credit, tri]</td>\n",
       "      <td>[0.0, 0.0, 0.0, 0.0, 0.0, 0.0, 0.0, 0.0, 0.0, ...</td>\n",
       "    </tr>\n",
       "    <tr>\n",
       "      <th>1785</th>\n",
       "      <td>2 drunken besties stumble into my room and we ...</td>\n",
       "      <td>Not Suicide post</td>\n",
       "      <td>drunken besties stumble into my room   we run...</td>\n",
       "      <td>[drunken, besties, stumble, into, my, room, we...</td>\n",
       "      <td>[drunken, besties, stumble, into, my, room, we...</td>\n",
       "      <td>[drunken, besti, stumbl, into, my, room, we, r...</td>\n",
       "      <td>[0.0, 0.0, 0.0, 0.0, 0.0, 0.0, 0.0, 0.0, 0.0, ...</td>\n",
       "    </tr>\n",
       "    <tr>\n",
       "      <th>1786</th>\n",
       "      <td>@dancingbonita &amp;quot;I friggin love you!!!&amp;quo...</td>\n",
       "      <td>Not Suicide post</td>\n",
       "      <td>quotI friggin love youquot Ron Burgundy ridin...</td>\n",
       "      <td>[quotI, friggin, love, youquot, Ron, Burgundy,...</td>\n",
       "      <td>[quotI, friggin, love, youquot, Ron, Burgundy,...</td>\n",
       "      <td>[quoti, friggin, love, youquot, ron, burgundi,...</td>\n",
       "      <td>[0.0, 0.0, 0.0, 0.0, 0.0, 0.0, 0.0, 0.0, 0.0, ...</td>\n",
       "    </tr>\n",
       "  </tbody>\n",
       "</table>\n",
       "<p>1785 rows × 7 columns</p>\n",
       "</div>"
      ],
      "text/plain": [
       "                                                  Tweet  \\\n",
       "0                                     making some lunch   \n",
       "1                           @Alexia You want his money.   \n",
       "2     @dizzyhrvy that crap took me forever to put to...   \n",
       "3     @jnaylor #kiwitweets Hey Jer! Since when did y...   \n",
       "4     Trying out &quot;Delicious Library 2&quot; wit...   \n",
       "...                                                 ...   \n",
       "1782    i have forgotten how much i love my Nokia N95-1   \n",
       "1783  Starting my day out with a positive attitude! ...   \n",
       "1784  @belledame222 Hey, it's 5 am...give a girl som...   \n",
       "1785  2 drunken besties stumble into my room and we ...   \n",
       "1786  @dancingbonita &quot;I friggin love you!!!&quo...   \n",
       "\n",
       "                      Suicide  \\\n",
       "0            Not Suicide post   \n",
       "1            Not Suicide post   \n",
       "2     Potential Suicide post    \n",
       "3            Not Suicide post   \n",
       "4            Not Suicide post   \n",
       "...                       ...   \n",
       "1782         Not Suicide post   \n",
       "1783         Not Suicide post   \n",
       "1784         Not Suicide post   \n",
       "1785         Not Suicide post   \n",
       "1786         Not Suicide post   \n",
       "\n",
       "                                         Processed_Text  \\\n",
       "0                                     making some lunch   \n",
       "1                                    You want his money   \n",
       "2      that crap took me forever   put together im g...   \n",
       "3      kiwitweets Hey Jer Since when did you start t...   \n",
       "4     Trying out quotDelicious Library quot   mixed ...   \n",
       "...                                                 ...   \n",
       "1782        i have forgotten how much i love my Nokia N   \n",
       "1783  Starting my day out     positive attitude   be...   \n",
       "1784        Hey its  amgive   girl some credit   trying   \n",
       "1785   drunken besties stumble into my room   we run...   \n",
       "1786   quotI friggin love youquot Ron Burgundy ridin...   \n",
       "\n",
       "                                         Tokenized_Text  \\\n",
       "0                                 [making, some, lunch]   \n",
       "1                               [You, want, his, money]   \n",
       "2     [that, crap, took, me, forever, put, together,...   \n",
       "3     [kiwitweets, Hey, Jer, Since, when, did, you, ...   \n",
       "4     [Trying, out, quotDelicious, Library, quot, mi...   \n",
       "...                                                 ...   \n",
       "1782  [i, have, forgotten, how, much, i, love, my, N...   \n",
       "1783  [Starting, my, day, out, positive, attitude, b...   \n",
       "1784     [Hey, its, amgive, girl, some, credit, trying]   \n",
       "1785  [drunken, besties, stumble, into, my, room, we...   \n",
       "1786  [quotI, friggin, love, youquot, Ron, Burgundy,...   \n",
       "\n",
       "                                        Lemmatized_Text  \\\n",
       "0                                 [making, some, lunch]   \n",
       "1                               [You, want, his, money]   \n",
       "2     [that, crap, took, me, forever, put, together,...   \n",
       "3     [kiwitweets, Hey, Jer, Since, when, did, you, ...   \n",
       "4     [Trying, out, quotDelicious, Library, quot, mi...   \n",
       "...                                                 ...   \n",
       "1782  [i, have, forgotten, how, much, i, love, my, N...   \n",
       "1783  [Starting, my, day, out, positive, attitude, b...   \n",
       "1784      [Hey, it, amgive, girl, some, credit, trying]   \n",
       "1785  [drunken, besties, stumble, into, my, room, we...   \n",
       "1786  [quotI, friggin, love, youquot, Ron, Burgundy,...   \n",
       "\n",
       "                                           Stemmed_Text  \\\n",
       "0                                   [make, some, lunch]   \n",
       "1                                [you, want, hi, money]   \n",
       "2     [that, crap, took, me, forev, put, togeth, im,...   \n",
       "3     [kiwitweet, hey, jer, sinc, when, did, you, st...   \n",
       "4     [tri, out, quotdelici, librari, quot, mix, res...   \n",
       "...                                                 ...   \n",
       "1782  [i, have, forgotten, how, much, i, love, my, n...   \n",
       "1783  [start, my, day, out, posit, attitud, be, grea...   \n",
       "1784          [hey, it, amgiv, girl, some, credit, tri]   \n",
       "1785  [drunken, besti, stumbl, into, my, room, we, r...   \n",
       "1786  [quoti, friggin, love, youquot, ron, burgundi,...   \n",
       "\n",
       "                                        Vectorized_Text  \n",
       "0     [0.0, 0.0, 0.0, 0.0, 0.0, 0.0, 0.0, 0.0, 0.0, ...  \n",
       "1     [0.0, 0.0, 0.0, 0.0, 0.0, 0.0, 0.0, 0.0, 0.0, ...  \n",
       "2     [0.0, 0.0, 0.0, 0.0, 0.0, 0.0, 0.0, 0.0, 0.0, ...  \n",
       "3     [0.0, 0.0, 0.0, 0.0, 0.0, 0.0, 0.0, 0.0, 0.0, ...  \n",
       "4     [0.0, 0.0, 0.0, 0.0, 0.0, 0.0, 0.0, 0.0, 0.0, ...  \n",
       "...                                                 ...  \n",
       "1782  [0.0, 0.0, 0.0, 0.0, 0.0, 0.0, 0.0, 0.0, 0.0, ...  \n",
       "1783  [0.0, 0.0, 0.0, 0.0, 0.0, 0.0, 0.0, 0.0, 0.0, ...  \n",
       "1784  [0.0, 0.0, 0.0, 0.0, 0.0, 0.0, 0.0, 0.0, 0.0, ...  \n",
       "1785  [0.0, 0.0, 0.0, 0.0, 0.0, 0.0, 0.0, 0.0, 0.0, ...  \n",
       "1786  [0.0, 0.0, 0.0, 0.0, 0.0, 0.0, 0.0, 0.0, 0.0, ...  \n",
       "\n",
       "[1785 rows x 7 columns]"
      ]
     },
     "metadata": {},
     "output_type": "display_data"
    }
   ],
   "source": [
    "def process_text_column(df, column_name='Tweet'):\n",
    "    # processing regular expressions\n",
    "    \n",
    "    #tokenization\n",
    "    # cleanrnig . . . . . regular\n",
    "    # lemmatize\n",
    "    # stemming \n",
    "    # vectorization\n",
    "    def preprocessor(text):\n",
    "        #removing anything after @ as its just the username\n",
    "        text = re.sub(r'@[^\\s]+', '', text)\n",
    "        text = re.sub(r'[^a-zA-Z\\s]', '', text)  # sh12342aswat = shaswat\n",
    "        text = re.sub(r'\\b(?:the|and|is|it|of|in|to|for|with|on|at|by|this|an|a)\\b', ' ', text, flags=re.IGNORECASE)\n",
    "        return text\n",
    "\n",
    "    #  tokenizer by splitting sentences \n",
    "    def tokenizer(text):\n",
    "        # i am happy\n",
    "        # ['i', 'am', 'happy']\n",
    "        return text.split()\n",
    "\n",
    "    # lemmatize with word net lemmatizer\n",
    "    def lemmatizer(tokens):\n",
    "        # play played plays = play ---->\n",
    "        lemmatizer = WordNetLemmatizer()\n",
    "        return [lemmatizer.lemmatize(token) for token in tokens]\n",
    "\n",
    "    #  Porter Stemmer to stem the tokens \n",
    "    def porter_stemmer(tokens):\n",
    "        # happiness =  happy\n",
    "        stemmer = PorterStemmer()\n",
    "        return [stemmer.stem(token) for token in tokens]\n",
    "\n",
    "    # tfidf vectorizer\n",
    "    def vectorizer(texts):\n",
    "        # happy = [ 0.5 0.8 0.8 0.01                         ]\n",
    "    \n",
    "        tfidf_vectorizer = TfidfVectorizer(stop_words=stopwords.words('english'))\n",
    "        X_tfidf = tfidf_vectorizer.fit_transform(texts).toarray()\n",
    "        #onehot_encoder = OneHotEncoder()\n",
    "        #X_onehot = onehot_encoder.fit_transform(X_tfidf).toarray()\n",
    "        #dump(onehot_encoder, 'onehot_encoder.joblib')\n",
    "        dump(tfidf_vectorizer, 'tfidf_vectorizer.joblib')\n",
    "        #display(X_onehot)\n",
    "        return X_tfidf\n",
    "\n",
    "\n",
    "    # Apply preprocessing\n",
    "    df['Processed_Text'] = df[column_name].apply(preprocessor)\n",
    "\n",
    "    # Tokenize\n",
    "    df['Tokenized_Text'] = df['Processed_Text'].apply(tokenizer)\n",
    "\n",
    "    # Lemmatize\n",
    "    df['Lemmatized_Text'] = df['Tokenized_Text'].apply(lemmatizer)\n",
    "\n",
    "    # Porter Stemming\n",
    "    df['Stemmed_Text'] = df['Tokenized_Text'].apply(porter_stemmer)\n",
    "\n",
    "    # Vectorize\n",
    "    vectorized_documents = vectorizer(df['Processed_Text'])\n",
    "    df['Vectorized_Text'] = list(vectorized_documents)\n",
    "\n",
    "    return df\n",
    "\n",
    "# Process the 'Tweet' column\n",
    "df = process_text_column(df, column_name='Tweet')\n",
    "\n",
    "\n",
    "\n",
    "# Display the processed DataFrame\n",
    "display(df)\n",
    "\n"
   ]
  },
  {
   "cell_type": "code",
   "execution_count": 40,
   "id": "0c2bf83a",
   "metadata": {},
   "outputs": [],
   "source": [
    "#for Suicide column lets encode and map to 0 and 1 \n",
    "le = LabelEncoder()\n",
    "df['target'] = le.fit_transform(df['Suicide'])\n"
   ]
  },
  {
   "cell_type": "code",
   "execution_count": 41,
   "id": "ad34d843",
   "metadata": {},
   "outputs": [
    {
     "data": {
      "text/html": [
       "<div>\n",
       "<style scoped>\n",
       "    .dataframe tbody tr th:only-of-type {\n",
       "        vertical-align: middle;\n",
       "    }\n",
       "\n",
       "    .dataframe tbody tr th {\n",
       "        vertical-align: top;\n",
       "    }\n",
       "\n",
       "    .dataframe thead th {\n",
       "        text-align: right;\n",
       "    }\n",
       "</style>\n",
       "<table border=\"1\" class=\"dataframe\">\n",
       "  <thead>\n",
       "    <tr style=\"text-align: right;\">\n",
       "      <th></th>\n",
       "      <th>Tweet</th>\n",
       "      <th>Suicide</th>\n",
       "      <th>Processed_Text</th>\n",
       "      <th>Tokenized_Text</th>\n",
       "      <th>Lemmatized_Text</th>\n",
       "      <th>Stemmed_Text</th>\n",
       "      <th>Vectorized_Text</th>\n",
       "      <th>target</th>\n",
       "    </tr>\n",
       "  </thead>\n",
       "  <tbody>\n",
       "    <tr>\n",
       "      <th>0</th>\n",
       "      <td>making some lunch</td>\n",
       "      <td>Not Suicide post</td>\n",
       "      <td>making some lunch</td>\n",
       "      <td>[making, some, lunch]</td>\n",
       "      <td>[making, some, lunch]</td>\n",
       "      <td>[make, some, lunch]</td>\n",
       "      <td>[0.0, 0.0, 0.0, 0.0, 0.0, 0.0, 0.0, 0.0, 0.0, ...</td>\n",
       "      <td>0</td>\n",
       "    </tr>\n",
       "    <tr>\n",
       "      <th>1</th>\n",
       "      <td>@Alexia You want his money.</td>\n",
       "      <td>Not Suicide post</td>\n",
       "      <td>You want his money</td>\n",
       "      <td>[You, want, his, money]</td>\n",
       "      <td>[You, want, his, money]</td>\n",
       "      <td>[you, want, hi, money]</td>\n",
       "      <td>[0.0, 0.0, 0.0, 0.0, 0.0, 0.0, 0.0, 0.0, 0.0, ...</td>\n",
       "      <td>0</td>\n",
       "    </tr>\n",
       "    <tr>\n",
       "      <th>2</th>\n",
       "      <td>@dizzyhrvy that crap took me forever to put to...</td>\n",
       "      <td>Potential Suicide post</td>\n",
       "      <td>that crap took me forever   put together im g...</td>\n",
       "      <td>[that, crap, took, me, forever, put, together,...</td>\n",
       "      <td>[that, crap, took, me, forever, put, together,...</td>\n",
       "      <td>[that, crap, took, me, forev, put, togeth, im,...</td>\n",
       "      <td>[0.0, 0.0, 0.0, 0.0, 0.0, 0.0, 0.0, 0.0, 0.0, ...</td>\n",
       "      <td>1</td>\n",
       "    </tr>\n",
       "    <tr>\n",
       "      <th>3</th>\n",
       "      <td>@jnaylor #kiwitweets Hey Jer! Since when did y...</td>\n",
       "      <td>Not Suicide post</td>\n",
       "      <td>kiwitweets Hey Jer Since when did you start t...</td>\n",
       "      <td>[kiwitweets, Hey, Jer, Since, when, did, you, ...</td>\n",
       "      <td>[kiwitweets, Hey, Jer, Since, when, did, you, ...</td>\n",
       "      <td>[kiwitweet, hey, jer, sinc, when, did, you, st...</td>\n",
       "      <td>[0.0, 0.0, 0.0, 0.0, 0.0, 0.0, 0.0, 0.0, 0.0, ...</td>\n",
       "      <td>0</td>\n",
       "    </tr>\n",
       "    <tr>\n",
       "      <th>4</th>\n",
       "      <td>Trying out &amp;quot;Delicious Library 2&amp;quot; wit...</td>\n",
       "      <td>Not Suicide post</td>\n",
       "      <td>Trying out quotDelicious Library quot   mixed ...</td>\n",
       "      <td>[Trying, out, quotDelicious, Library, quot, mi...</td>\n",
       "      <td>[Trying, out, quotDelicious, Library, quot, mi...</td>\n",
       "      <td>[tri, out, quotdelici, librari, quot, mix, res...</td>\n",
       "      <td>[0.0, 0.0, 0.0, 0.0, 0.0, 0.0, 0.0, 0.0, 0.0, ...</td>\n",
       "      <td>0</td>\n",
       "    </tr>\n",
       "  </tbody>\n",
       "</table>\n",
       "</div>"
      ],
      "text/plain": [
       "                                               Tweet                  Suicide  \\\n",
       "0                                  making some lunch         Not Suicide post   \n",
       "1                        @Alexia You want his money.         Not Suicide post   \n",
       "2  @dizzyhrvy that crap took me forever to put to...  Potential Suicide post    \n",
       "3  @jnaylor #kiwitweets Hey Jer! Since when did y...         Not Suicide post   \n",
       "4  Trying out &quot;Delicious Library 2&quot; wit...         Not Suicide post   \n",
       "\n",
       "                                      Processed_Text  \\\n",
       "0                                  making some lunch   \n",
       "1                                 You want his money   \n",
       "2   that crap took me forever   put together im g...   \n",
       "3   kiwitweets Hey Jer Since when did you start t...   \n",
       "4  Trying out quotDelicious Library quot   mixed ...   \n",
       "\n",
       "                                      Tokenized_Text  \\\n",
       "0                              [making, some, lunch]   \n",
       "1                            [You, want, his, money]   \n",
       "2  [that, crap, took, me, forever, put, together,...   \n",
       "3  [kiwitweets, Hey, Jer, Since, when, did, you, ...   \n",
       "4  [Trying, out, quotDelicious, Library, quot, mi...   \n",
       "\n",
       "                                     Lemmatized_Text  \\\n",
       "0                              [making, some, lunch]   \n",
       "1                            [You, want, his, money]   \n",
       "2  [that, crap, took, me, forever, put, together,...   \n",
       "3  [kiwitweets, Hey, Jer, Since, when, did, you, ...   \n",
       "4  [Trying, out, quotDelicious, Library, quot, mi...   \n",
       "\n",
       "                                        Stemmed_Text  \\\n",
       "0                                [make, some, lunch]   \n",
       "1                             [you, want, hi, money]   \n",
       "2  [that, crap, took, me, forev, put, togeth, im,...   \n",
       "3  [kiwitweet, hey, jer, sinc, when, did, you, st...   \n",
       "4  [tri, out, quotdelici, librari, quot, mix, res...   \n",
       "\n",
       "                                     Vectorized_Text  target  \n",
       "0  [0.0, 0.0, 0.0, 0.0, 0.0, 0.0, 0.0, 0.0, 0.0, ...       0  \n",
       "1  [0.0, 0.0, 0.0, 0.0, 0.0, 0.0, 0.0, 0.0, 0.0, ...       0  \n",
       "2  [0.0, 0.0, 0.0, 0.0, 0.0, 0.0, 0.0, 0.0, 0.0, ...       1  \n",
       "3  [0.0, 0.0, 0.0, 0.0, 0.0, 0.0, 0.0, 0.0, 0.0, ...       0  \n",
       "4  [0.0, 0.0, 0.0, 0.0, 0.0, 0.0, 0.0, 0.0, 0.0, ...       0  "
      ]
     },
     "execution_count": 41,
     "metadata": {},
     "output_type": "execute_result"
    }
   ],
   "source": [
    "df.head()"
   ]
  },
  {
   "cell_type": "code",
   "execution_count": 42,
   "id": "45570c31",
   "metadata": {},
   "outputs": [
    {
     "data": {
      "text/plain": [
       "array([[0., 0., 0., ..., 0., 0., 0.],\n",
       "       [0., 0., 0., ..., 0., 0., 0.],\n",
       "       [0., 0., 0., ..., 0., 0., 0.],\n",
       "       ...,\n",
       "       [0., 0., 0., ..., 0., 0., 0.],\n",
       "       [0., 0., 0., ..., 0., 0., 0.],\n",
       "       [0., 0., 0., ..., 0., 0., 0.]])"
      ]
     },
     "metadata": {},
     "output_type": "display_data"
    }
   ],
   "source": [
    "X = np.vstack(df['Vectorized_Text'].to_numpy())\n",
    "X_train, X_test, y_train, y_test = train_test_split(X, df['target'], test_size = 0.2, random_state = 0)\n",
    "display(X_train)"
   ]
  },
  {
   "cell_type": "code",
   "execution_count": 155,
   "id": "a87d9518",
   "metadata": {},
   "outputs": [],
   "source": [
    "def plot_confusion_matrix(y_true, y_pred, classes, name):\n",
    "    \"\"\"\n",
    "    Plot a confusion matrix.\n",
    "\n",
    "    Parameters:\n",
    "    - y_true: True labels\n",
    "    - y_pred: Predicted labels\n",
    "    - classes: Class names (list)\n",
    "    \"\"\"\n",
    "    cm = confusion_matrix(y_true, y_pred)\n",
    "    \n",
    "    plt.figure(figsize=(6, 4))\n",
    "    sns.heatmap(cm, annot=True, fmt='d', cmap='Blues', xticklabels=classes, yticklabels=classes)\n",
    "    plt.title(f'Confusion Matrix of {name}')\n",
    "    plt.xlabel('Predicted label')\n",
    "    plt.ylabel('True label')\n",
    "    plt.show()\n"
   ]
  },
  {
   "cell_type": "code",
   "execution_count": 165,
   "id": "cad5a223",
   "metadata": {},
   "outputs": [],
   "source": [
    "def rf_clf(X_train, X_test, y_train , y_test):\n",
    "\n",
    "    model =  RandomForestClassifier(n_estimators=100, random_state=42)\n",
    "\n",
    "    model.fit(X_train, y_train)\n",
    "\n",
    "    \n",
    "    y_pred = model.predict(X_test)\n",
    "\n",
    "    accuracy = accuracy_score(y_test, y_pred)\n",
    "    print(f\"Accuracy: {accuracy}\")\n",
    "    cm = confusion_matrix(y_test, y_pred)\n",
    "\n",
    "    plot_confusion_matrix(y_test, y_pred,['Not Suicidal', 'Suicidal'], 'Random Forest')\n",
    "\n",
    "\n",
    "    report = classification_report(y_test, y_pred)\n",
    "    print(\"\\nClassification Report:\")\n",
    "    print(report)\n",
    "    \n",
    "    return model"
   ]
  },
  {
   "cell_type": "code",
   "execution_count": 166,
   "id": "8871633e",
   "metadata": {},
   "outputs": [],
   "source": [
    "def svm_clf(X_train, X_test, y_train, y_test):\n",
    "    model = SVC(kernel='linear', random_state=42)\n",
    "    model.fit(X_train, y_train)\n",
    "    \n",
    "    y_pred = model.predict(X_test)\n",
    "\n",
    "    accuracy = accuracy_score(y_test, y_pred)\n",
    "    print(f\"Accuracy: {accuracy}\")\n",
    "    \n",
    "    cm = confusion_matrix(y_test, y_pred)\n",
    "    plot_confusion_matrix(y_test, y_pred,['Not Suicidal', 'Suicidal'], 'SVM')\n",
    "\n",
    "    report = classification_report(y_test, y_pred)\n",
    "    print(\"\\nClassification Report:\")\n",
    "    print(report)\n",
    "    \n",
    "    return model\n"
   ]
  },
  {
   "cell_type": "code",
   "execution_count": 167,
   "id": "0ad99a99",
   "metadata": {},
   "outputs": [],
   "source": [
    "def dt_clf(X_train, X_test, y_train, y_test):\n",
    "    model = DecisionTreeClassifier(random_state=42)\n",
    "    model.fit(X_train, y_train)\n",
    "    \n",
    "    y_pred = model.predict(X_test)\n",
    "\n",
    "    accuracy = accuracy_score(y_test, y_pred)\n",
    "    print(f\"Accuracy: {accuracy}\")\n",
    "    \n",
    "    cm = confusion_matrix(y_test, y_pred)\n",
    "    plot_confusion_matrix(y_test, y_pred,['Not Suicidal', 'Suicidal'], 'Decision Tree')\n",
    "\n",
    "    report = classification_report(y_test, y_pred)\n",
    "    print(\"\\nClassification Report:\")\n",
    "    print(report)\n",
    "    \n",
    "    return model\n"
   ]
  },
  {
   "cell_type": "code",
   "execution_count": 168,
   "id": "760975bd",
   "metadata": {},
   "outputs": [],
   "source": [
    "def knn_clf(X_train, X_test, y_train, y_test):\n",
    "    model = KNeighborsClassifier(n_neighbors=5)\n",
    "    model.fit(X_train, y_train)\n",
    "    \n",
    "    y_pred = model.predict(X_test)\n",
    "\n",
    "    accuracy = accuracy_score(y_test, y_pred)\n",
    "    print(f\"Accuracy: {accuracy}\")\n",
    "    \n",
    "    cm = confusion_matrix(y_test, y_pred)\n",
    "    plot_confusion_matrix(y_test, y_pred,['Not Suicidal', 'Suicidal'], 'KNN')\n",
    "\n",
    "    report = classification_report(y_test, y_pred)\n",
    "    print(\"\\nClassification Report:\")\n",
    "    print(report)\n",
    "    \n",
    "    return model"
   ]
  },
  {
   "cell_type": "code",
   "execution_count": 169,
   "id": "dbb3d769",
   "metadata": {},
   "outputs": [
    {
     "name": "stdout",
     "output_type": "stream",
     "text": [
      "Accuracy: 0.9159663865546218\n"
     ]
    },
    {
     "data": {
      "image/png": "[encoded data removed]",
      "text/plain": [
       "<Figure size 432x288 with 2 Axes>"
      ]
     },
     "metadata": {},
     "output_type": "display_data"
    },
    {
     "name": "stdout",
     "output_type": "stream",
     "text": [
      "\n",
      "Classification Report:\n",
      "              precision    recall  f1-score   support\n",
      "\n",
      "           0       0.89      0.98      0.93       219\n",
      "           1       0.97      0.81      0.88       138\n",
      "\n",
      "    accuracy                           0.92       357\n",
      "   macro avg       0.93      0.90      0.91       357\n",
      "weighted avg       0.92      0.92      0.91       357\n",
      "\n"
     ]
    }
   ],
   "source": [
    "random_forest_model = rf_clf(X_train, X_test, y_train, y_test)"
   ]
  },
  {
   "cell_type": "code",
   "execution_count": 170,
   "id": "7d92557d",
   "metadata": {},
   "outputs": [
    {
     "name": "stdout",
     "output_type": "stream",
     "text": [
      "Accuracy: 0.8823529411764706\n"
     ]
    },
    {
     "data": {
      "image/png": "[encoded data removed]",
      "text/plain": [
       "<Figure size 432x288 with 2 Axes>"
      ]
     },
     "metadata": {},
     "output_type": "display_data"
    },
    {
     "name": "stdout",
     "output_type": "stream",
     "text": [
      "\n",
      "Classification Report:\n",
      "              precision    recall  f1-score   support\n",
      "\n",
      "           0       0.87      0.95      0.91       219\n",
      "           1       0.91      0.78      0.84       138\n",
      "\n",
      "    accuracy                           0.88       357\n",
      "   macro avg       0.89      0.86      0.87       357\n",
      "weighted avg       0.88      0.88      0.88       357\n",
      "\n"
     ]
    }
   ],
   "source": [
    "decision_tree_model = dt_clf(X_train, X_test, y_train, y_test)"
   ]
  },
  {
   "cell_type": "code",
   "execution_count": 171,
   "id": "98ede7a1",
   "metadata": {},
   "outputs": [
    {
     "name": "stdout",
     "output_type": "stream",
     "text": [
      "Accuracy: 0.803921568627451\n"
     ]
    },
    {
     "data": {
      "image/png": "[encoded data removed]",
      "text/plain": [
       "<Figure size 432x288 with 2 Axes>"
      ]
     },
     "metadata": {},
     "output_type": "display_data"
    },
    {
     "name": "stdout",
     "output_type": "stream",
     "text": [
      "\n",
      "Classification Report:\n",
      "              precision    recall  f1-score   support\n",
      "\n",
      "           0       0.77      0.97      0.86       219\n",
      "           1       0.91      0.54      0.68       138\n",
      "\n",
      "    accuracy                           0.80       357\n",
      "   macro avg       0.84      0.76      0.77       357\n",
      "weighted avg       0.83      0.80      0.79       357\n",
      "\n"
     ]
    }
   ],
   "source": [
    "knn_model = knn_clf(X_train, X_test, y_train, y_test)"
   ]
  },
  {
   "cell_type": "code",
   "execution_count": 172,
   "id": "ba6e41a4",
   "metadata": {},
   "outputs": [
    {
     "name": "stdout",
     "output_type": "stream",
     "text": [
      "Accuracy: 0.9103641456582633\n"
     ]
    },
    {
     "data": {
      "image/png": "[encoded data removed]",
      "text/plain": [
       "<Figure size 432x288 with 2 Axes>"
      ]
     },
     "metadata": {},
     "output_type": "display_data"
    },
    {
     "name": "stdout",
     "output_type": "stream",
     "text": [
      "\n",
      "Classification Report:\n",
      "              precision    recall  f1-score   support\n",
      "\n",
      "           0       0.88      0.98      0.93       219\n",
      "           1       0.96      0.80      0.87       138\n",
      "\n",
      "    accuracy                           0.91       357\n",
      "   macro avg       0.92      0.89      0.90       357\n",
      "weighted avg       0.92      0.91      0.91       357\n",
      "\n"
     ]
    }
   ],
   "source": [
    "svm_model = svm_clf(X_train, X_test, y_train, y_test)"
   ]
  },
  {
   "cell_type": "code",
   "execution_count": 177,
   "id": "aea498aa",
   "metadata": {},
   "outputs": [],
   "source": [
    "new_sentence = \"i want to die\"\n",
    "\n",
    "def preprocess_text(text, tfidf_vectorizer):\n",
    "    def preprocessor(text):\n",
    "        text = re.sub(r'@[^\\s]+', '', text)\n",
    "        text = re.sub(r'[^a-zA-Z\\s]', '', text)\n",
    "        text = re.sub(r'\\b(?:the|and|is|it|of|in|to|for|with|on|at|by|this|an|a)\\b', ' ', text, flags=re.IGNORECASE)\n",
    "        return text\n",
    "\n",
    "    processed_text = preprocessor(text)\n",
    "\n",
    "    #tfidf\n",
    "    X_tfidf = tfidf_vectorizer.transform([processed_text]).toarray()\n",
    "\n",
    "    return X_tfidf"
   ]
  },
  {
   "cell_type": "code",
   "execution_count": null,
   "id": "cfedea5b",
   "metadata": {},
   "outputs": [
    {
     "name": "stdout",
     "output_type": "stream",
     "text": [
      "Tweet: I want to die\n",
      " \n",
      "model:  Random Forest Classifier\n",
      "Predicted Label: [1]\n",
      "potential suicidal post\n",
      " \n",
      "model:  Decision Tree Classifier\n",
      "Predicted Label: [1]\n",
      "potential suicidal post\n",
      " \n",
      "model:  KNN Classifier\n",
      "Predicted Label: [1]\n",
      "potential suicidal post\n",
      " \n",
      "model:  SVM\n",
      "Predicted Label: [1]\n",
      "potential suicidal post\n",
      "Tweet: this life is unbearable but i should be stronger \n",
      " \n",
      "model:  Random Forest Classifier\n",
      "Predicted Label: [0]\n",
      "not suicidal post \n",
      " \n",
      "model:  Decision Tree Classifier\n",
      "Predicted Label: [0]\n",
      "not suicidal post \n",
      " \n",
      "model:  KNN Classifier\n",
      "Predicted Label: [1]\n",
      "potential suicidal post\n",
      " \n",
      "model:  SVM\n",
      "Predicted Label: [0]\n",
      "not suicidal post \n"
     ]
    }
   ],
   "source": [
    "models = {\n",
    "    \"Random Forest Classifier\" : random_forest_model,\n",
    "    \"Decision Tree Classifier\" : decision_tree_model,\n",
    "    \"KNN Classifier\" : knn_model,\n",
    "    \"SVM\" : svm_model\n",
    "}\n",
    "\n",
    "while True:\n",
    "    new_sentence = str(input(\"Tweet: \"))\n",
    "    \n",
    "    if new_sentence == \"exit\":\n",
    "        break\n",
    "            \n",
    "    vectorized_sentence = preprocess_text(new_sentence, tfidf_vectorizer)\n",
    "\n",
    "    for item in models:\n",
    "        # Make predictions\n",
    "        print(\" \")\n",
    "        predicted_label = models[item].predict(vectorized_sentence)\n",
    "        print(\"model: \", item)\n",
    "        print(f\"Predicted Label: {predicted_label}\")\n",
    "\n",
    "        if predicted_label[0] == 1:\n",
    "            print(\"potential suicidal post\")\n",
    "        else:\n",
    "            print(\"not suicidal post \")\n",
    "        "
   ]
  },
  {
   "cell_type": "code",
   "execution_count": null,
   "id": "ab286e62",
   "metadata": {},
   "outputs": [],
   "source": []
  }
 ],
 "metadata": {
  "kernelspec": {
   "display_name": "Python 3",
   "language": "python",
   "name": "python3"
  },
  "language_info": {
   "codemirror_mode": {
    "name": "ipython",
    "version": 3
   },
   "file_extension": ".py",
   "mimetype": "text/x-python",
   "name": "python",
   "nbconvert_exporter": "python",
   "pygments_lexer": "ipython3",
   "version": "3.8.8"
  }
 },
 "nbformat": 4,
 "nbformat_minor": 5
}
